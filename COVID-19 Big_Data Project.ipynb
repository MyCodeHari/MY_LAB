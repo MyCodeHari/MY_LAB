{
 "cells": [
  {
   "cell_type": "markdown",
   "id": "b6bbec06",
   "metadata": {},
   "source": [
    "# COVID -19 BIG_DATA_SET"
   ]
  },
  {
   "cell_type": "code",
   "execution_count": 2,
   "id": "6613e19a",
   "metadata": {},
   "outputs": [
    {
     "data": {
      "text/html": [
       "<div>\n",
       "<style scoped>\n",
       "    .dataframe tbody tr th:only-of-type {\n",
       "        vertical-align: middle;\n",
       "    }\n",
       "\n",
       "    .dataframe tbody tr th {\n",
       "        vertical-align: top;\n",
       "    }\n",
       "\n",
       "    .dataframe thead th {\n",
       "        text-align: right;\n",
       "    }\n",
       "</style>\n",
       "<table border=\"1\" class=\"dataframe\">\n",
       "  <thead>\n",
       "    <tr style=\"text-align: right;\">\n",
       "      <th></th>\n",
       "      <th>Date</th>\n",
       "      <th>State</th>\n",
       "      <th>Region</th>\n",
       "      <th>Confirmed</th>\n",
       "      <th>Deaths</th>\n",
       "      <th>Recovered</th>\n",
       "    </tr>\n",
       "  </thead>\n",
       "  <tbody>\n",
       "    <tr>\n",
       "      <th>0</th>\n",
       "      <td>4/29/2020</td>\n",
       "      <td>NaN</td>\n",
       "      <td>Afghanistan</td>\n",
       "      <td>1939</td>\n",
       "      <td>60</td>\n",
       "      <td>252</td>\n",
       "    </tr>\n",
       "    <tr>\n",
       "      <th>1</th>\n",
       "      <td>4/29/2020</td>\n",
       "      <td>NaN</td>\n",
       "      <td>Albania</td>\n",
       "      <td>766</td>\n",
       "      <td>30</td>\n",
       "      <td>455</td>\n",
       "    </tr>\n",
       "    <tr>\n",
       "      <th>2</th>\n",
       "      <td>4/29/2020</td>\n",
       "      <td>NaN</td>\n",
       "      <td>Algeria</td>\n",
       "      <td>3848</td>\n",
       "      <td>444</td>\n",
       "      <td>1702</td>\n",
       "    </tr>\n",
       "    <tr>\n",
       "      <th>3</th>\n",
       "      <td>4/29/2020</td>\n",
       "      <td>NaN</td>\n",
       "      <td>Andorra</td>\n",
       "      <td>743</td>\n",
       "      <td>42</td>\n",
       "      <td>423</td>\n",
       "    </tr>\n",
       "    <tr>\n",
       "      <th>4</th>\n",
       "      <td>4/29/2020</td>\n",
       "      <td>NaN</td>\n",
       "      <td>Angola</td>\n",
       "      <td>27</td>\n",
       "      <td>2</td>\n",
       "      <td>7</td>\n",
       "    </tr>\n",
       "    <tr>\n",
       "      <th>...</th>\n",
       "      <td>...</td>\n",
       "      <td>...</td>\n",
       "      <td>...</td>\n",
       "      <td>...</td>\n",
       "      <td>...</td>\n",
       "      <td>...</td>\n",
       "    </tr>\n",
       "    <tr>\n",
       "      <th>316</th>\n",
       "      <td>4/29/2020</td>\n",
       "      <td>Wyoming</td>\n",
       "      <td>US</td>\n",
       "      <td>545</td>\n",
       "      <td>7</td>\n",
       "      <td>0</td>\n",
       "    </tr>\n",
       "    <tr>\n",
       "      <th>317</th>\n",
       "      <td>4/29/2020</td>\n",
       "      <td>Xinjiang</td>\n",
       "      <td>Mainland China</td>\n",
       "      <td>76</td>\n",
       "      <td>3</td>\n",
       "      <td>73</td>\n",
       "    </tr>\n",
       "    <tr>\n",
       "      <th>318</th>\n",
       "      <td>4/29/2020</td>\n",
       "      <td>Yukon</td>\n",
       "      <td>Canada</td>\n",
       "      <td>11</td>\n",
       "      <td>0</td>\n",
       "      <td>0</td>\n",
       "    </tr>\n",
       "    <tr>\n",
       "      <th>319</th>\n",
       "      <td>4/29/2020</td>\n",
       "      <td>Yunnan</td>\n",
       "      <td>Mainland China</td>\n",
       "      <td>185</td>\n",
       "      <td>2</td>\n",
       "      <td>181</td>\n",
       "    </tr>\n",
       "    <tr>\n",
       "      <th>320</th>\n",
       "      <td>4/29/2020</td>\n",
       "      <td>Zhejiang</td>\n",
       "      <td>Mainland China</td>\n",
       "      <td>1268</td>\n",
       "      <td>1</td>\n",
       "      <td>1263</td>\n",
       "    </tr>\n",
       "  </tbody>\n",
       "</table>\n",
       "<p>321 rows × 6 columns</p>\n",
       "</div>"
      ],
      "text/plain": [
       "          Date     State          Region  Confirmed  Deaths  Recovered\n",
       "0    4/29/2020       NaN     Afghanistan       1939      60        252\n",
       "1    4/29/2020       NaN         Albania        766      30        455\n",
       "2    4/29/2020       NaN         Algeria       3848     444       1702\n",
       "3    4/29/2020       NaN         Andorra        743      42        423\n",
       "4    4/29/2020       NaN          Angola         27       2          7\n",
       "..         ...       ...             ...        ...     ...        ...\n",
       "316  4/29/2020   Wyoming              US        545       7          0\n",
       "317  4/29/2020  Xinjiang  Mainland China         76       3         73\n",
       "318  4/29/2020     Yukon          Canada         11       0          0\n",
       "319  4/29/2020    Yunnan  Mainland China        185       2        181\n",
       "320  4/29/2020  Zhejiang  Mainland China       1268       1       1263\n",
       "\n",
       "[321 rows x 6 columns]"
      ]
     },
     "execution_count": 2,
     "metadata": {},
     "output_type": "execute_result"
    }
   ],
   "source": [
    "import pandas as pd\n",
    "data= pd.read_csv(r\"C:\\Users\\Hariprasad\\Downloads\\file.csv\")\n",
    "data"
   ]
  },
  {
   "cell_type": "code",
   "execution_count": 3,
   "id": "5cc30748",
   "metadata": {},
   "outputs": [
    {
     "data": {
      "text/plain": [
       "Date         321\n",
       "State        140\n",
       "Region       321\n",
       "Confirmed    321\n",
       "Deaths       321\n",
       "Recovered    321\n",
       "dtype: int64"
      ]
     },
     "execution_count": 3,
     "metadata": {},
     "output_type": "execute_result"
    }
   ],
   "source": [
    "data.count()"
   ]
  },
  {
   "cell_type": "code",
   "execution_count": 4,
   "id": "7f77ffbe",
   "metadata": {},
   "outputs": [
    {
     "data": {
      "text/plain": [
       "Date           0\n",
       "State        181\n",
       "Region         0\n",
       "Confirmed      0\n",
       "Deaths         0\n",
       "Recovered      0\n",
       "dtype: int64"
      ]
     },
     "execution_count": 4,
     "metadata": {},
     "output_type": "execute_result"
    }
   ],
   "source": [
    "data.isnull().sum()             #this will show the total null values in each column individually"
   ]
  },
  {
   "cell_type": "code",
   "execution_count": 5,
   "id": "7fc35455",
   "metadata": {},
   "outputs": [],
   "source": [
    "#Import seaborn library and matplotlib library as sns and plt...\n",
    "\n",
    "import seaborn as sns\n",
    "import matplotlib.pyplot as plt"
   ]
  },
  {
   "cell_type": "code",
   "execution_count": 6,
   "id": "d2ecbf37",
   "metadata": {},
   "outputs": [
    {
     "data": {
      "image/png": "[encoded data removed]",
      "text/plain": [
       "<Figure size 640x480 with 2 Axes>"
      ]
     },
     "metadata": {},
     "output_type": "display_data"
    }
   ],
   "source": [
    "sns.heatmap(data.isnull())\n",
    "plt.show()"
   ]
  },
  {
   "cell_type": "markdown",
   "id": "67002d9f",
   "metadata": {},
   "source": [
    "|QUERY: 1 |Output showing the number of confirmend deaths and recovered cases region-wise in each State...||"
   ]
  },
  {
   "cell_type": "code",
   "execution_count": 7,
   "id": "09c802e8",
   "metadata": {},
   "outputs": [
    {
     "data": {
      "text/plain": [
       "Region\n",
       "US                       1039909\n",
       "Spain                     236899\n",
       "Italy                     203591\n",
       "France                    166543\n",
       "UK                        166441\n",
       "                          ...   \n",
       "Sao Tome and Principe          8\n",
       "Papua New Guinea               8\n",
       "Bhutan                         7\n",
       "Western Sahara                 6\n",
       "Yemen                          6\n",
       "Name: Confirmed, Length: 187, dtype: int64"
      ]
     },
     "execution_count": 7,
     "metadata": {},
     "output_type": "execute_result"
    }
   ],
   "source": [
    "data.groupby('Region')['Confirmed'].sum().sort_values(ascending=False)"
   ]
  },
  {
   "cell_type": "code",
   "execution_count": 8,
   "id": "f0f3f4ae",
   "metadata": {},
   "outputs": [
    {
     "data": {
      "text/html": [
       "<div>\n",
       "<style scoped>\n",
       "    .dataframe tbody tr th:only-of-type {\n",
       "        vertical-align: middle;\n",
       "    }\n",
       "\n",
       "    .dataframe tbody tr th {\n",
       "        vertical-align: top;\n",
       "    }\n",
       "\n",
       "    .dataframe thead th {\n",
       "        text-align: right;\n",
       "    }\n",
       "</style>\n",
       "<table border=\"1\" class=\"dataframe\">\n",
       "  <thead>\n",
       "    <tr style=\"text-align: right;\">\n",
       "      <th></th>\n",
       "      <th>Confirmed</th>\n",
       "      <th>Recovered</th>\n",
       "    </tr>\n",
       "    <tr>\n",
       "      <th>Region</th>\n",
       "      <th></th>\n",
       "      <th></th>\n",
       "    </tr>\n",
       "  </thead>\n",
       "  <tbody>\n",
       "    <tr>\n",
       "      <th>Afghanistan</th>\n",
       "      <td>1939</td>\n",
       "      <td>252</td>\n",
       "    </tr>\n",
       "    <tr>\n",
       "      <th>Albania</th>\n",
       "      <td>766</td>\n",
       "      <td>455</td>\n",
       "    </tr>\n",
       "    <tr>\n",
       "      <th>Algeria</th>\n",
       "      <td>3848</td>\n",
       "      <td>1702</td>\n",
       "    </tr>\n",
       "    <tr>\n",
       "      <th>Andorra</th>\n",
       "      <td>743</td>\n",
       "      <td>423</td>\n",
       "    </tr>\n",
       "    <tr>\n",
       "      <th>Angola</th>\n",
       "      <td>27</td>\n",
       "      <td>7</td>\n",
       "    </tr>\n",
       "    <tr>\n",
       "      <th>...</th>\n",
       "      <td>...</td>\n",
       "      <td>...</td>\n",
       "    </tr>\n",
       "    <tr>\n",
       "      <th>West Bank and Gaza</th>\n",
       "      <td>344</td>\n",
       "      <td>71</td>\n",
       "    </tr>\n",
       "    <tr>\n",
       "      <th>Western Sahara</th>\n",
       "      <td>6</td>\n",
       "      <td>5</td>\n",
       "    </tr>\n",
       "    <tr>\n",
       "      <th>Yemen</th>\n",
       "      <td>6</td>\n",
       "      <td>1</td>\n",
       "    </tr>\n",
       "    <tr>\n",
       "      <th>Zambia</th>\n",
       "      <td>97</td>\n",
       "      <td>54</td>\n",
       "    </tr>\n",
       "    <tr>\n",
       "      <th>Zimbabwe</th>\n",
       "      <td>32</td>\n",
       "      <td>5</td>\n",
       "    </tr>\n",
       "  </tbody>\n",
       "</table>\n",
       "<p>187 rows × 2 columns</p>\n",
       "</div>"
      ],
      "text/plain": [
       "                    Confirmed  Recovered\n",
       "Region                                  \n",
       "Afghanistan              1939        252\n",
       "Albania                   766        455\n",
       "Algeria                  3848       1702\n",
       "Andorra                   743        423\n",
       "Angola                     27          7\n",
       "...                       ...        ...\n",
       "West Bank and Gaza        344         71\n",
       "Western Sahara              6          5\n",
       "Yemen                       6          1\n",
       "Zambia                     97         54\n",
       "Zimbabwe                   32          5\n",
       "\n",
       "[187 rows x 2 columns]"
      ]
     },
     "execution_count": 8,
     "metadata": {},
     "output_type": "execute_result"
    }
   ],
   "source": [
    "data.groupby('Region')[['Confirmed', 'Recovered']].sum()"
   ]
  },
  {
   "cell_type": "markdown",
   "id": "3be8eac7",
   "metadata": {},
   "source": [
    "|QUERY: 2 |Filter out the cases where the \"confirmed cases\" is less than \"10\"...||"
   ]
  },
  {
   "cell_type": "code",
   "execution_count": 9,
   "id": "3464d8cb",
   "metadata": {},
   "outputs": [
    {
     "data": {
      "text/html": [
       "<div>\n",
       "<style scoped>\n",
       "    .dataframe tbody tr th:only-of-type {\n",
       "        vertical-align: middle;\n",
       "    }\n",
       "\n",
       "    .dataframe tbody tr th {\n",
       "        vertical-align: top;\n",
       "    }\n",
       "\n",
       "    .dataframe thead th {\n",
       "        text-align: right;\n",
       "    }\n",
       "</style>\n",
       "<table border=\"1\" class=\"dataframe\">\n",
       "  <thead>\n",
       "    <tr style=\"text-align: right;\">\n",
       "      <th></th>\n",
       "      <th>Date</th>\n",
       "      <th>State</th>\n",
       "      <th>Region</th>\n",
       "      <th>Confirmed</th>\n",
       "      <th>Deaths</th>\n",
       "      <th>Recovered</th>\n",
       "    </tr>\n",
       "  </thead>\n",
       "  <tbody>\n",
       "    <tr>\n",
       "      <th>0</th>\n",
       "      <td>4/29/2020</td>\n",
       "      <td>NaN</td>\n",
       "      <td>Afghanistan</td>\n",
       "      <td>1939</td>\n",
       "      <td>60</td>\n",
       "      <td>252</td>\n",
       "    </tr>\n",
       "    <tr>\n",
       "      <th>1</th>\n",
       "      <td>4/29/2020</td>\n",
       "      <td>NaN</td>\n",
       "      <td>Albania</td>\n",
       "      <td>766</td>\n",
       "      <td>30</td>\n",
       "      <td>455</td>\n",
       "    </tr>\n",
       "    <tr>\n",
       "      <th>2</th>\n",
       "      <td>4/29/2020</td>\n",
       "      <td>NaN</td>\n",
       "      <td>Algeria</td>\n",
       "      <td>3848</td>\n",
       "      <td>444</td>\n",
       "      <td>1702</td>\n",
       "    </tr>\n",
       "    <tr>\n",
       "      <th>3</th>\n",
       "      <td>4/29/2020</td>\n",
       "      <td>NaN</td>\n",
       "      <td>Andorra</td>\n",
       "      <td>743</td>\n",
       "      <td>42</td>\n",
       "      <td>423</td>\n",
       "    </tr>\n",
       "    <tr>\n",
       "      <th>4</th>\n",
       "      <td>4/29/2020</td>\n",
       "      <td>NaN</td>\n",
       "      <td>Angola</td>\n",
       "      <td>27</td>\n",
       "      <td>2</td>\n",
       "      <td>7</td>\n",
       "    </tr>\n",
       "    <tr>\n",
       "      <th>...</th>\n",
       "      <td>...</td>\n",
       "      <td>...</td>\n",
       "      <td>...</td>\n",
       "      <td>...</td>\n",
       "      <td>...</td>\n",
       "      <td>...</td>\n",
       "    </tr>\n",
       "    <tr>\n",
       "      <th>316</th>\n",
       "      <td>4/29/2020</td>\n",
       "      <td>Wyoming</td>\n",
       "      <td>US</td>\n",
       "      <td>545</td>\n",
       "      <td>7</td>\n",
       "      <td>0</td>\n",
       "    </tr>\n",
       "    <tr>\n",
       "      <th>317</th>\n",
       "      <td>4/29/2020</td>\n",
       "      <td>Xinjiang</td>\n",
       "      <td>Mainland China</td>\n",
       "      <td>76</td>\n",
       "      <td>3</td>\n",
       "      <td>73</td>\n",
       "    </tr>\n",
       "    <tr>\n",
       "      <th>318</th>\n",
       "      <td>4/29/2020</td>\n",
       "      <td>Yukon</td>\n",
       "      <td>Canada</td>\n",
       "      <td>11</td>\n",
       "      <td>0</td>\n",
       "      <td>0</td>\n",
       "    </tr>\n",
       "    <tr>\n",
       "      <th>319</th>\n",
       "      <td>4/29/2020</td>\n",
       "      <td>Yunnan</td>\n",
       "      <td>Mainland China</td>\n",
       "      <td>185</td>\n",
       "      <td>2</td>\n",
       "      <td>181</td>\n",
       "    </tr>\n",
       "    <tr>\n",
       "      <th>320</th>\n",
       "      <td>4/29/2020</td>\n",
       "      <td>Zhejiang</td>\n",
       "      <td>Mainland China</td>\n",
       "      <td>1268</td>\n",
       "      <td>1</td>\n",
       "      <td>1263</td>\n",
       "    </tr>\n",
       "  </tbody>\n",
       "</table>\n",
       "<p>304 rows × 6 columns</p>\n",
       "</div>"
      ],
      "text/plain": [
       "          Date     State          Region  Confirmed  Deaths  Recovered\n",
       "0    4/29/2020       NaN     Afghanistan       1939      60        252\n",
       "1    4/29/2020       NaN         Albania        766      30        455\n",
       "2    4/29/2020       NaN         Algeria       3848     444       1702\n",
       "3    4/29/2020       NaN         Andorra        743      42        423\n",
       "4    4/29/2020       NaN          Angola         27       2          7\n",
       "..         ...       ...             ...        ...     ...        ...\n",
       "316  4/29/2020   Wyoming              US        545       7          0\n",
       "317  4/29/2020  Xinjiang  Mainland China         76       3         73\n",
       "318  4/29/2020     Yukon          Canada         11       0          0\n",
       "319  4/29/2020    Yunnan  Mainland China        185       2        181\n",
       "320  4/29/2020  Zhejiang  Mainland China       1268       1       1263\n",
       "\n",
       "[304 rows x 6 columns]"
      ]
     },
     "execution_count": 9,
     "metadata": {},
     "output_type": "execute_result"
    }
   ],
   "source": [
    "data=data[~(data.Confirmed < 10)]\n",
    "data"
   ]
  },
  {
   "cell_type": "markdown",
   "id": "34db0e94",
   "metadata": {},
   "source": [
    "|QUERY: 3 |Depict the \"Region\" (atleast to 50) where maximum \"Confirmed cases\" were recorded||"
   ]
  },
  {
   "cell_type": "code",
   "execution_count": 10,
   "id": "f896051e",
   "metadata": {},
   "outputs": [
    {
     "data": {
      "text/plain": [
       "Region\n",
       "US                      1039909\n",
       "Spain                    236899\n",
       "Italy                    203591\n",
       "France                   166536\n",
       "UK                       166432\n",
       "Germany                  161539\n",
       "Turkey                   117589\n",
       "Russia                    99399\n",
       "Iran                      93657\n",
       "Mainland China            82861\n",
       "Brazil                    79685\n",
       "Canada                    52860\n",
       "Belgium                   47859\n",
       "Netherlands               38993\n",
       "Peru                      33931\n",
       "India                     33062\n",
       "Switzerland               29407\n",
       "Ecuador                   24675\n",
       "Portugal                  24505\n",
       "Saudi Arabia              21402\n",
       "Sweden                    20302\n",
       "Ireland                   20253\n",
       "Mexico                    17799\n",
       "Israel                    15834\n",
       "Singapore                 15641\n",
       "Pakistan                  15525\n",
       "Austria                   15402\n",
       "Chile                     14885\n",
       "Japan                     13895\n",
       "Belarus                   13181\n",
       "Poland                    12640\n",
       "Qatar                     12564\n",
       "Romania                   11978\n",
       "United Arab Emirates      11929\n",
       "South Korea               10765\n",
       "Ukraine                    9866\n",
       "Indonesia                  9771\n",
       "Denmark                    9206\n",
       "Philippines                8212\n",
       "Norway                     7710\n",
       "Czech Republic             7579\n",
       "Bangladesh                 7103\n",
       "Australia                  6752\n",
       "Dominican Republic         6652\n",
       "Serbia                     6630\n",
       "Panama                     6378\n",
       "Colombia                   6207\n",
       "Malaysia                   5945\n",
       "South Africa               5350\n",
       "Egypt                      5268\n",
       "Name: Confirmed, dtype: int64"
      ]
     },
     "execution_count": 10,
     "metadata": {},
     "output_type": "execute_result"
    }
   ],
   "source": [
    "data.groupby('Region').Confirmed.sum().sort_values(ascending= False).head(50)"
   ]
  },
  {
   "cell_type": "markdown",
   "id": "27094de6",
   "metadata": {},
   "source": [
    "|QUERY: 4 |...Publish the \"Region\" minimum number of \"deaths\" ()recorded....||"
   ]
  },
  {
   "cell_type": "code",
   "execution_count": 11,
   "id": "1048c163",
   "metadata": {},
   "outputs": [
    {
     "data": {
      "text/plain": [
       "Region\n",
       "Cambodia                            0\n",
       "Seychelles                          0\n",
       "Saint Lucia                         0\n",
       "Central African Republic            0\n",
       "Saint Kitts and Nevis               0\n",
       "South Sudan                         0\n",
       "Rwanda                              0\n",
       "Grenada                             0\n",
       "Macau                               0\n",
       "Madagascar                          0\n",
       "Nepal                               0\n",
       "Namibia                             0\n",
       "Saint Vincent and the Grenadines    0\n",
       "Mozambique                          0\n",
       "Holy See                            0\n",
       "Timor-Leste                         0\n",
       "Mongolia                            0\n",
       "Uganda                              0\n",
       "Laos                                0\n",
       "Eritrea                             0\n",
       "Vietnam                             0\n",
       "Fiji                                0\n",
       "Dominica                            0\n",
       "Gambia                              1\n",
       "Equatorial Guinea                   1\n",
       "Eswatini                            1\n",
       "Cabo Verde                          1\n",
       "Maldives                            1\n",
       "Guinea-Bissau                       1\n",
       "Liechtenstein                       1\n",
       "Brunei                              1\n",
       "Burundi                             1\n",
       "Botswana                            1\n",
       "Suriname                            1\n",
       "Benin                               1\n",
       "Djibouti                            2\n",
       "Angola                              2\n",
       "Libya                               2\n",
       "Chad                                2\n",
       "West Bank and Gaza                  2\n",
       "Belize                              2\n",
       "Zambia                              3\n",
       "Malawi                              3\n",
       "Nicaragua                           3\n",
       "Syria                               3\n",
       "Ethiopia                            3\n",
       "Antigua and Barbuda                 3\n",
       "Gabon                               3\n",
       "Hong Kong                           4\n",
       "Zimbabwe                            4\n",
       "Name: Deaths, dtype: int64"
      ]
     },
     "execution_count": 11,
     "metadata": {},
     "output_type": "execute_result"
    }
   ],
   "source": [
    "data.groupby('Region').Deaths.sum().sort_values(ascending= True).head(50)"
   ]
  },
  {
   "cell_type": "markdown",
   "id": "b7d14eca",
   "metadata": {},
   "source": [
    "|QUERY: 5 |Address the \"Confirmed\", \"Deaths\", \"Recovered\" cases were reported from India till 29 April 2020||"
   ]
  },
  {
   "cell_type": "code",
   "execution_count": 12,
   "id": "16d415b9",
   "metadata": {},
   "outputs": [
    {
     "data": {
      "text/html": [
       "<div>\n",
       "<style scoped>\n",
       "    .dataframe tbody tr th:only-of-type {\n",
       "        vertical-align: middle;\n",
       "    }\n",
       "\n",
       "    .dataframe tbody tr th {\n",
       "        vertical-align: top;\n",
       "    }\n",
       "\n",
       "    .dataframe thead th {\n",
       "        text-align: right;\n",
       "    }\n",
       "</style>\n",
       "<table border=\"1\" class=\"dataframe\">\n",
       "  <thead>\n",
       "    <tr style=\"text-align: right;\">\n",
       "      <th></th>\n",
       "      <th>Date</th>\n",
       "      <th>State</th>\n",
       "      <th>Region</th>\n",
       "      <th>Confirmed</th>\n",
       "      <th>Deaths</th>\n",
       "      <th>Recovered</th>\n",
       "    </tr>\n",
       "  </thead>\n",
       "  <tbody>\n",
       "    <tr>\n",
       "      <th>74</th>\n",
       "      <td>4/29/2020</td>\n",
       "      <td>NaN</td>\n",
       "      <td>India</td>\n",
       "      <td>33062</td>\n",
       "      <td>1079</td>\n",
       "      <td>8437</td>\n",
       "    </tr>\n",
       "  </tbody>\n",
       "</table>\n",
       "</div>"
      ],
      "text/plain": [
       "         Date State Region  Confirmed  Deaths  Recovered\n",
       "74  4/29/2020   NaN  India      33062    1079       8437"
      ]
     },
     "execution_count": 12,
     "metadata": {},
     "output_type": "execute_result"
    }
   ],
   "source": [
    "data[data.Region==\"India\"]"
   ]
  },
  {
   "cell_type": "markdown",
   "id": "10152836",
   "metadata": {},
   "source": [
    "|QUERY: 6 |wrt number of \"Confirmed cases\"...sort the data in ascending order||"
   ]
  },
  {
   "cell_type": "code",
   "execution_count": 13,
   "id": "6581f5a6",
   "metadata": {},
   "outputs": [
    {
     "data": {
      "text/html": [
       "<div>\n",
       "<style scoped>\n",
       "    .dataframe tbody tr th:only-of-type {\n",
       "        vertical-align: middle;\n",
       "    }\n",
       "\n",
       "    .dataframe tbody tr th {\n",
       "        vertical-align: top;\n",
       "    }\n",
       "\n",
       "    .dataframe thead th {\n",
       "        text-align: right;\n",
       "    }\n",
       "</style>\n",
       "<table border=\"1\" class=\"dataframe\">\n",
       "  <thead>\n",
       "    <tr style=\"text-align: right;\">\n",
       "      <th></th>\n",
       "      <th>Date</th>\n",
       "      <th>State</th>\n",
       "      <th>Region</th>\n",
       "      <th>Confirmed</th>\n",
       "      <th>Deaths</th>\n",
       "      <th>Recovered</th>\n",
       "    </tr>\n",
       "  </thead>\n",
       "  <tbody>\n",
       "    <tr>\n",
       "      <th>156</th>\n",
       "      <td>4/29/2020</td>\n",
       "      <td>NaN</td>\n",
       "      <td>Suriname</td>\n",
       "      <td>10</td>\n",
       "      <td>1</td>\n",
       "      <td>8</td>\n",
       "    </tr>\n",
       "    <tr>\n",
       "      <th>70</th>\n",
       "      <td>4/29/2020</td>\n",
       "      <td>NaN</td>\n",
       "      <td>Holy See</td>\n",
       "      <td>10</td>\n",
       "      <td>0</td>\n",
       "      <td>2</td>\n",
       "    </tr>\n",
       "    <tr>\n",
       "      <th>59</th>\n",
       "      <td>4/29/2020</td>\n",
       "      <td>NaN</td>\n",
       "      <td>Gambia</td>\n",
       "      <td>10</td>\n",
       "      <td>1</td>\n",
       "      <td>8</td>\n",
       "    </tr>\n",
       "    <tr>\n",
       "      <th>318</th>\n",
       "      <td>4/29/2020</td>\n",
       "      <td>Yukon</td>\n",
       "      <td>Canada</td>\n",
       "      <td>11</td>\n",
       "      <td>0</td>\n",
       "      <td>0</td>\n",
       "    </tr>\n",
       "    <tr>\n",
       "      <th>217</th>\n",
       "      <td>4/29/2020</td>\n",
       "      <td>Greenland</td>\n",
       "      <td>Denmark</td>\n",
       "      <td>11</td>\n",
       "      <td>0</td>\n",
       "      <td>11</td>\n",
       "    </tr>\n",
       "  </tbody>\n",
       "</table>\n",
       "</div>"
      ],
      "text/plain": [
       "          Date      State    Region  Confirmed  Deaths  Recovered\n",
       "156  4/29/2020        NaN  Suriname         10       1          8\n",
       "70   4/29/2020        NaN  Holy See         10       0          2\n",
       "59   4/29/2020        NaN    Gambia         10       1          8\n",
       "318  4/29/2020      Yukon    Canada         11       0          0\n",
       "217  4/29/2020  Greenland   Denmark         11       0         11"
      ]
     },
     "execution_count": 13,
     "metadata": {},
     "output_type": "execute_result"
    }
   ],
   "source": [
    "data.sort_values(by=[\"Confirmed\"], ascending = True).head()"
   ]
  },
  {
   "cell_type": "markdown",
   "id": "5a6df0be",
   "metadata": {},
   "source": [
    "|QUERY: 7 |wrt \"Recovered cases\"....Sort the data in descending order||"
   ]
  },
  {
   "cell_type": "code",
   "execution_count": 14,
   "id": "804cf4a0",
   "metadata": {},
   "outputs": [
    {
     "data": {
      "text/html": [
       "<div>\n",
       "<style scoped>\n",
       "    .dataframe tbody tr th:only-of-type {\n",
       "        vertical-align: middle;\n",
       "    }\n",
       "\n",
       "    .dataframe tbody tr th {\n",
       "        vertical-align: top;\n",
       "    }\n",
       "\n",
       "    .dataframe thead th {\n",
       "        text-align: right;\n",
       "    }\n",
       "</style>\n",
       "<table border=\"1\" class=\"dataframe\">\n",
       "  <thead>\n",
       "    <tr style=\"text-align: right;\">\n",
       "      <th></th>\n",
       "      <th>Date</th>\n",
       "      <th>State</th>\n",
       "      <th>Region</th>\n",
       "      <th>Confirmed</th>\n",
       "      <th>Deaths</th>\n",
       "      <th>Recovered</th>\n",
       "    </tr>\n",
       "  </thead>\n",
       "  <tbody>\n",
       "    <tr>\n",
       "      <th>153</th>\n",
       "      <td>4/29/2020</td>\n",
       "      <td>NaN</td>\n",
       "      <td>Spain</td>\n",
       "      <td>236899</td>\n",
       "      <td>24275</td>\n",
       "      <td>132929</td>\n",
       "    </tr>\n",
       "    <tr>\n",
       "      <th>61</th>\n",
       "      <td>4/29/2020</td>\n",
       "      <td>NaN</td>\n",
       "      <td>Germany</td>\n",
       "      <td>161539</td>\n",
       "      <td>6467</td>\n",
       "      <td>120400</td>\n",
       "    </tr>\n",
       "    <tr>\n",
       "      <th>76</th>\n",
       "      <td>4/29/2020</td>\n",
       "      <td>NaN</td>\n",
       "      <td>Iran</td>\n",
       "      <td>93657</td>\n",
       "      <td>5957</td>\n",
       "      <td>73791</td>\n",
       "    </tr>\n",
       "    <tr>\n",
       "      <th>80</th>\n",
       "      <td>4/29/2020</td>\n",
       "      <td>NaN</td>\n",
       "      <td>Italy</td>\n",
       "      <td>203591</td>\n",
       "      <td>27682</td>\n",
       "      <td>71252</td>\n",
       "    </tr>\n",
       "    <tr>\n",
       "      <th>229</th>\n",
       "      <td>4/29/2020</td>\n",
       "      <td>Hubei</td>\n",
       "      <td>Mainland China</td>\n",
       "      <td>68128</td>\n",
       "      <td>4512</td>\n",
       "      <td>63616</td>\n",
       "    </tr>\n",
       "  </tbody>\n",
       "</table>\n",
       "</div>"
      ],
      "text/plain": [
       "          Date  State          Region  Confirmed  Deaths  Recovered\n",
       "153  4/29/2020    NaN           Spain     236899   24275     132929\n",
       "61   4/29/2020    NaN         Germany     161539    6467     120400\n",
       "76   4/29/2020    NaN            Iran      93657    5957      73791\n",
       "80   4/29/2020    NaN           Italy     203591   27682      71252\n",
       "229  4/29/2020  Hubei  Mainland China      68128    4512      63616"
      ]
     },
     "execution_count": 14,
     "metadata": {},
     "output_type": "execute_result"
    }
   ],
   "source": [
    "data.sort_values(by= [\"Recovered\"], ascending= False).head()"
   ]
  },
  {
   "cell_type": "markdown",
   "id": "cee60bb7",
   "metadata": {},
   "source": [
    "|QUERY: 8 |...Gather up the \"Region\" corresponding to \"Confirmed\",\"Deaths\",\"Recovered\"..||"
   ]
  },
  {
   "cell_type": "code",
   "execution_count": 15,
   "id": "c3a333d4",
   "metadata": {},
   "outputs": [
    {
     "data": {
      "text/html": [
       "<div>\n",
       "<style scoped>\n",
       "    .dataframe tbody tr th:only-of-type {\n",
       "        vertical-align: middle;\n",
       "    }\n",
       "\n",
       "    .dataframe tbody tr th {\n",
       "        vertical-align: top;\n",
       "    }\n",
       "\n",
       "    .dataframe thead th {\n",
       "        text-align: right;\n",
       "    }\n",
       "</style>\n",
       "<table border=\"1\" class=\"dataframe\">\n",
       "  <thead>\n",
       "    <tr style=\"text-align: right;\">\n",
       "      <th></th>\n",
       "      <th>Region</th>\n",
       "      <th>Confirmed</th>\n",
       "      <th>Deaths</th>\n",
       "      <th>Recovered</th>\n",
       "    </tr>\n",
       "  </thead>\n",
       "  <tbody>\n",
       "    <tr>\n",
       "      <th>0</th>\n",
       "      <td>Afghanistan</td>\n",
       "      <td>1939</td>\n",
       "      <td>60</td>\n",
       "      <td>252</td>\n",
       "    </tr>\n",
       "    <tr>\n",
       "      <th>1</th>\n",
       "      <td>Albania</td>\n",
       "      <td>766</td>\n",
       "      <td>30</td>\n",
       "      <td>455</td>\n",
       "    </tr>\n",
       "    <tr>\n",
       "      <th>2</th>\n",
       "      <td>Algeria</td>\n",
       "      <td>3848</td>\n",
       "      <td>444</td>\n",
       "      <td>1702</td>\n",
       "    </tr>\n",
       "    <tr>\n",
       "      <th>3</th>\n",
       "      <td>Andorra</td>\n",
       "      <td>743</td>\n",
       "      <td>42</td>\n",
       "      <td>423</td>\n",
       "    </tr>\n",
       "    <tr>\n",
       "      <th>4</th>\n",
       "      <td>Angola</td>\n",
       "      <td>27</td>\n",
       "      <td>2</td>\n",
       "      <td>7</td>\n",
       "    </tr>\n",
       "  </tbody>\n",
       "</table>\n",
       "</div>"
      ],
      "text/plain": [
       "        Region  Confirmed  Deaths  Recovered\n",
       "0  Afghanistan       1939      60        252\n",
       "1      Albania        766      30        455\n",
       "2      Algeria       3848     444       1702\n",
       "3      Andorra        743      42        423\n",
       "4       Angola         27       2          7"
      ]
     },
     "execution_count": 15,
     "metadata": {},
     "output_type": "execute_result"
    }
   ],
   "source": [
    "grouped_by_region = data.groupby('Region').agg({\n",
    "    'Confirmed': 'sum',\n",
    "    'Deaths': 'sum',\n",
    "    'Recovered': 'sum'\n",
    "}).reset_index()\n",
    "\n",
    "grouped_by_region.head()"
   ]
  },
  {
   "cell_type": "markdown",
   "id": "11635baa",
   "metadata": {},
   "source": [
    "|QUERY: 9 |Combine the data wrt to date , sum up the outcomes||"
   ]
  },
  {
   "cell_type": "code",
   "execution_count": 16,
   "id": "e43c8ba3",
   "metadata": {},
   "outputs": [
    {
     "name": "stderr",
     "output_type": "stream",
     "text": [
      "C:\\Users\\Hariprasad\\AppData\\Local\\Temp\\ipykernel_13432\\2699462882.py:1: SettingWithCopyWarning: \n",
      "A value is trying to be set on a copy of a slice from a DataFrame.\n",
      "Try using .loc[row_indexer,col_indexer] = value instead\n",
      "\n",
      "See the caveats in the documentation: https://pandas.pydata.org/pandas-docs/stable/user_guide/indexing.html#returning-a-view-versus-a-copy\n",
      "  data['Date'] = pd.to_datetime(data['Date'])\n"
     ]
    },
    {
     "data": {
      "text/html": [
       "<div>\n",
       "<style scoped>\n",
       "    .dataframe tbody tr th:only-of-type {\n",
       "        vertical-align: middle;\n",
       "    }\n",
       "\n",
       "    .dataframe tbody tr th {\n",
       "        vertical-align: top;\n",
       "    }\n",
       "\n",
       "    .dataframe thead th {\n",
       "        text-align: right;\n",
       "    }\n",
       "</style>\n",
       "<table border=\"1\" class=\"dataframe\">\n",
       "  <thead>\n",
       "    <tr style=\"text-align: right;\">\n",
       "      <th></th>\n",
       "      <th>Date</th>\n",
       "      <th>Confirmed</th>\n",
       "      <th>Deaths</th>\n",
       "      <th>Recovered</th>\n",
       "    </tr>\n",
       "  </thead>\n",
       "  <tbody>\n",
       "    <tr>\n",
       "      <th>0</th>\n",
       "      <td>2020-04-29</td>\n",
       "      <td>3193807</td>\n",
       "      <td>227633</td>\n",
       "      <td>831638</td>\n",
       "    </tr>\n",
       "  </tbody>\n",
       "</table>\n",
       "</div>"
      ],
      "text/plain": [
       "        Date  Confirmed  Deaths  Recovered\n",
       "0 2020-04-29    3193807  227633     831638"
      ]
     },
     "execution_count": 16,
     "metadata": {},
     "output_type": "execute_result"
    }
   ],
   "source": [
    "data['Date'] = pd.to_datetime(data['Date'])\n",
    "trend_by_date = data.groupby('Date').agg({\n",
    "    'Confirmed': 'sum',\n",
    "    'Deaths': 'sum',\n",
    "    'Recovered': 'sum'\n",
    "}).reset_index()\n",
    "trend_by_date.head()"
   ]
  },
  {
   "cell_type": "markdown",
   "id": "cc7171e5",
   "metadata": {},
   "source": [
    "|QUERY: 10 |Plot \"Confirmed cases bars\" vs corresponding \"Deaths\" wrt to particular region as listed||\n",
    "\n",
    "['Belgium', 'Brazil', 'Canada','France', 'Germany', 'India', 'Russia', 'Iran', 'Italy', 'US', 'Spain', 'UK']"
   ]
  },
  {
   "cell_type": "code",
   "execution_count": 8,
   "id": "861cfad3",
   "metadata": {},
   "outputs": [
    {
     "data": {
      "image/png": "[encoded data removed]",
      "text/plain": [
       "<Figure size 640x480 with 1 Axes>"
      ]
     },
     "metadata": {},
     "output_type": "display_data"
    }
   ],
   "source": [
    "import matplotlib.pyplot as plt\n",
    "# Filter specific regions\n",
    "regions_of_interest = ['Belgium', 'Brazil', 'Canada', 'France', 'Germany',\n",
    "                       'India','Russia', 'Iran', 'Italy', 'US', 'Spain', 'UK']\n",
    "filtered_data = data[data['Region'].isin(regions_of_interest)]\n",
    "\n",
    "# Group the filtered data by Region and aggregate sums for Confirmed and Deaths\n",
    "filtered_region_data = filtered_data.groupby('Region')[['Confirmed', 'Deaths']].sum().reset_index()\n",
    "\n",
    "import numpy as np\n",
    "\n",
    "# Define bar width and positions\n",
    "bar_width = 0.35\n",
    "r1 = np.arange(len(filtered_region_data['Region']))\n",
    "r2 = [x + bar_width for x in r1]\n",
    "\n",
    "plt.figure()\n",
    "plt.bar(r1, filtered_region_data['Confirmed'], color='blue', width=bar_width, edgecolor='grey', label='Confirmed')\n",
    "plt.bar(r2, filtered_region_data['Deaths'], color='red', width=bar_width, edgecolor='grey', label='Deaths')\n",
    "\n",
    "plt.xlabel('Region')\n",
    "plt.ylabel('Cases')\n",
    "plt.title('Confirmed and Deaths Cases by Region')\n",
    "plt.xticks([r + bar_width/2 for r in range(len(filtered_region_data['Region']))], filtered_region_data['Region'], rotation=90)\n",
    "plt.legend()\n",
    "\n",
    "plt.show()\n"
   ]
  },
  {
   "cell_type": "markdown",
   "id": "ed249c37",
   "metadata": {},
   "source": [
    "|QUERY: 11 |Percentage distribution bar plot for only one single \"Region\" i.e. \"India\" ||\n"
   ]
  },
  {
   "cell_type": "code",
   "execution_count": 5,
   "id": "fa1499db",
   "metadata": {},
   "outputs": [
    {
     "data": {
      "image/png": "[encoded data removed]",
      "text/plain": [
       "<Figure size 640x480 with 1 Axes>"
      ]
     },
     "metadata": {},
     "output_type": "display_data"
    }
   ],
   "source": [
    "import seaborn as sns\n",
    "\n",
    "# Filter the data for only single region India\n",
    "india_data = data[data['Region'] == 'India'][['Confirmed', 'Deaths', 'Recovered']].sum()\n",
    "\n",
    "india_total = india_data.sum()\n",
    "india_percentage = (india_data / india_total) * 100\n",
    "\n",
    "india_percentage_df = india_percentage.reset_index()\n",
    "india_percentage_df.columns = ['Category', 'Percentage']\n",
    "\n",
    "plt.figure()\n",
    "sns.barplot(x='Category', y='Percentage', data=india_percentage_df, palette='viridis')\n",
    "\n",
    "plt.xlabel('Category')\n",
    "plt.ylabel('Percentage')\n",
    "plt.title('Percentage Distribution of Total Confirmed, Deaths, and Recovered Cases in India')\n",
    "\n",
    "plt.show()"
   ]
  },
  {
   "cell_type": "markdown",
   "id": "e8baf1ff",
   "metadata": {},
   "source": [
    "|QUERY: 13 |Address the \"Confirmed\", \"Deaths\", \"Recovered\" cases were reported from \"Rusia\" till 29 April 2020||\n"
   ]
  },
  {
   "cell_type": "code",
   "execution_count": 10,
   "id": "9fb175fc",
   "metadata": {},
   "outputs": [
    {
     "data": {
      "text/html": [
       "<div>\n",
       "<style scoped>\n",
       "    .dataframe tbody tr th:only-of-type {\n",
       "        vertical-align: middle;\n",
       "    }\n",
       "\n",
       "    .dataframe tbody tr th {\n",
       "        vertical-align: top;\n",
       "    }\n",
       "\n",
       "    .dataframe thead th {\n",
       "        text-align: right;\n",
       "    }\n",
       "</style>\n",
       "<table border=\"1\" class=\"dataframe\">\n",
       "  <thead>\n",
       "    <tr style=\"text-align: right;\">\n",
       "      <th></th>\n",
       "      <th>Date</th>\n",
       "      <th>State</th>\n",
       "      <th>Region</th>\n",
       "      <th>Confirmed</th>\n",
       "      <th>Deaths</th>\n",
       "      <th>Recovered</th>\n",
       "    </tr>\n",
       "  </thead>\n",
       "  <tbody>\n",
       "    <tr>\n",
       "      <th>134</th>\n",
       "      <td>4/29/2020</td>\n",
       "      <td>NaN</td>\n",
       "      <td>Russia</td>\n",
       "      <td>99399</td>\n",
       "      <td>972</td>\n",
       "      <td>10286</td>\n",
       "    </tr>\n",
       "  </tbody>\n",
       "</table>\n",
       "</div>"
      ],
      "text/plain": [
       "          Date State  Region  Confirmed  Deaths  Recovered\n",
       "134  4/29/2020   NaN  Russia      99399     972      10286"
      ]
     },
     "execution_count": 10,
     "metadata": {},
     "output_type": "execute_result"
    }
   ],
   "source": [
    "data[data.Region==\"Russia\"]"
   ]
  },
  {
   "cell_type": "markdown",
   "id": "562b8323",
   "metadata": {},
   "source": [
    "|QUERY: 14 |Percentage distribution bar plot comapring \"India\" vs \"Russia\" ||"
   ]
  },
  {
   "cell_type": "code",
   "execution_count": 7,
   "id": "6c8b0c8b",
   "metadata": {},
   "outputs": [
    {
     "data": {
      "image/png": "[encoded data removed]",
      "text/plain": [
       "<Figure size 1200x800 with 1 Axes>"
      ]
     },
     "metadata": {},
     "output_type": "display_data"
    }
   ],
   "source": [
    "\n",
    "# Filter data as per 2 Region ie. \"India\" and \"Russia\"\n",
    "countries_of_interest = ['India', 'Russia']\n",
    "filtered_data = data[data['Region'].isin(countries_of_interest)]\n",
    "\n",
    "# Grouping filtered data by Region and aggregate sums for Confirmed, Deaths, and Recovered cases.\n",
    "grouped_data = filtered_data.groupby('Region')[['Confirmed', 'Deaths', 'Recovered']].sum().reset_index()\n",
    "\n",
    "# Calculate the percentage.\n",
    "grouped_data['Total'] = grouped_data['Confirmed'] + grouped_data['Deaths'] + grouped_data['Recovered']\n",
    "grouped_data['Confirmed_Percentage'] = (grouped_data['Confirmed'] / grouped_data['Total']) * 100\n",
    "grouped_data['Deaths_Percentage'] = (grouped_data['Deaths'] / grouped_data['Total']) * 100\n",
    "grouped_data['Recovered_Percentage'] = (grouped_data['Recovered'] / grouped_data['Total']) * 100\n",
    "\n",
    "plot_data = grouped_data.melt(id_vars='Region', \n",
    "                              value_vars=['Confirmed_Percentage', 'Deaths_Percentage', 'Recovered_Percentage'],\n",
    "                              var_name='Category', value_name='Percentage')\n",
    "\n",
    "# \"%\" distribution plot.\n",
    "plt.figure(figsize=(12, 8))\n",
    "bar_plot = sns.barplot(x='Region', y='Percentage', hue='Category', data=plot_data, palette='viridis')\n",
    "\n",
    "plt.xlabel('Country')\n",
    "plt.ylabel('Percentage')\n",
    "plt.title('Percentage Distribution of Total Confirmed, Deaths, and Recovered Cases in India vs Russia')\n",
    "plt.legend(title='Category', loc='upper right')\n",
    "\n",
    "for p in bar_plot.patches:\n",
    "    bar_plot.annotate(format(p.get_height(), '.2f') + '%', \n",
    "                      (p.get_x() + p.get_width() / 2., p.get_height()), \n",
    "                      ha = 'center', va = 'center', \n",
    "                      xytext = (0, 9), \n",
    "                      textcoords = 'offset points')\n",
    "\n",
    "plt.show()"
   ]
  },
  {
   "cell_type": "code",
   "execution_count": null,
   "id": "cf0a41fc",
   "metadata": {},
   "outputs": [],
   "source": []
  }
 ],
 "metadata": {
  "kernelspec": {
   "display_name": "Python 3 (ipykernel)",
   "language": "python",
   "name": "python3"
  },
  "language_info": {
   "codemirror_mode": {
    "name": "ipython",
    "version": 3
   },
   "file_extension": ".py",
   "mimetype": "text/x-python",
   "name": "python",
   "nbconvert_exporter": "python",
   "pygments_lexer": "ipython3",
   "version": "3.11.5"
  }
 },
 "nbformat": 4,
 "nbformat_minor": 5
}
